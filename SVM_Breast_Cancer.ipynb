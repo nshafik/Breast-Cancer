{
 "cells": [
  {
   "cell_type": "code",
   "execution_count": 161,
   "source": [
    "import pandas as pd     # Library for manipulating data using DataFrames\r\n",
    "import numpy as np      # Library used for handling arrays and utils such as min()  \r\n",
    "import seaborn as sns   # Library for data visualisation"
   ],
   "outputs": [],
   "metadata": {
    "id": "TpArr30OuLJu"
   }
  },
  {
   "cell_type": "markdown",
   "source": [
    "First, let us load the data"
   ],
   "metadata": {
    "id": "hVQnIF38CRCu"
   }
  },
  {
   "cell_type": "code",
   "execution_count": 162,
   "source": [
    "from sklearn.datasets import load_breast_cancer\r\n",
    "dacancer_data = load_breast_cancer()\r\n",
    "print(cancer_data)"
   ],
   "outputs": [
    {
     "output_type": "stream",
     "name": "stdout",
     "text": [
      "{'data': array([[1.799e+01, 1.038e+01, 1.228e+02, ..., 2.654e-01, 4.601e-01,\n",
      "        1.189e-01],\n",
      "       [2.057e+01, 1.777e+01, 1.329e+02, ..., 1.860e-01, 2.750e-01,\n",
      "        8.902e-02],\n",
      "       [1.969e+01, 2.125e+01, 1.300e+02, ..., 2.430e-01, 3.613e-01,\n",
      "        8.758e-02],\n",
      "       ...,\n",
      "       [1.660e+01, 2.808e+01, 1.083e+02, ..., 1.418e-01, 2.218e-01,\n",
      "        7.820e-02],\n",
      "       [2.060e+01, 2.933e+01, 1.401e+02, ..., 2.650e-01, 4.087e-01,\n",
      "        1.240e-01],\n",
      "       [7.760e+00, 2.454e+01, 4.792e+01, ..., 0.000e+00, 2.871e-01,\n",
      "        7.039e-02]]), 'target': array([0, 0, 0, 0, 0, 0, 0, 0, 0, 0, 0, 0, 0, 0, 0, 0, 0, 0, 0, 1, 1, 1,\n",
      "       0, 0, 0, 0, 0, 0, 0, 0, 0, 0, 0, 0, 0, 0, 0, 1, 0, 0, 0, 0, 0, 0,\n",
      "       0, 0, 1, 0, 1, 1, 1, 1, 1, 0, 0, 1, 0, 0, 1, 1, 1, 1, 0, 1, 0, 0,\n",
      "       1, 1, 1, 1, 0, 1, 0, 0, 1, 0, 1, 0, 0, 1, 1, 1, 0, 0, 1, 0, 0, 0,\n",
      "       1, 1, 1, 0, 1, 1, 0, 0, 1, 1, 1, 0, 0, 1, 1, 1, 1, 0, 1, 1, 0, 1,\n",
      "       1, 1, 1, 1, 1, 1, 1, 0, 0, 0, 1, 0, 0, 1, 1, 1, 0, 0, 1, 0, 1, 0,\n",
      "       0, 1, 0, 0, 1, 1, 0, 1, 1, 0, 1, 1, 1, 1, 0, 1, 1, 1, 1, 1, 1, 1,\n",
      "       1, 1, 0, 1, 1, 1, 1, 0, 0, 1, 0, 1, 1, 0, 0, 1, 1, 0, 0, 1, 1, 1,\n",
      "       1, 0, 1, 1, 0, 0, 0, 1, 0, 1, 0, 1, 1, 1, 0, 1, 1, 0, 0, 1, 0, 0,\n",
      "       0, 0, 1, 0, 0, 0, 1, 0, 1, 0, 1, 1, 0, 1, 0, 0, 0, 0, 1, 1, 0, 0,\n",
      "       1, 1, 1, 0, 1, 1, 1, 1, 1, 0, 0, 1, 1, 0, 1, 1, 0, 0, 1, 0, 1, 1,\n",
      "       1, 1, 0, 1, 1, 1, 1, 1, 0, 1, 0, 0, 0, 0, 0, 0, 0, 0, 0, 0, 0, 0,\n",
      "       0, 0, 1, 1, 1, 1, 1, 1, 0, 1, 0, 1, 1, 0, 1, 1, 0, 1, 0, 0, 1, 1,\n",
      "       1, 1, 1, 1, 1, 1, 1, 1, 1, 1, 1, 0, 1, 1, 0, 1, 0, 1, 1, 1, 1, 1,\n",
      "       1, 1, 1, 1, 1, 1, 1, 1, 1, 0, 1, 1, 1, 0, 1, 0, 1, 1, 1, 1, 0, 0,\n",
      "       0, 1, 1, 1, 1, 0, 1, 0, 1, 0, 1, 1, 1, 0, 1, 1, 1, 1, 1, 1, 1, 0,\n",
      "       0, 0, 1, 1, 1, 1, 1, 1, 1, 1, 1, 1, 1, 0, 0, 1, 0, 0, 0, 1, 0, 0,\n",
      "       1, 1, 1, 1, 1, 0, 1, 1, 1, 1, 1, 0, 1, 1, 1, 0, 1, 1, 0, 0, 1, 1,\n",
      "       1, 1, 1, 1, 0, 1, 1, 1, 1, 1, 1, 1, 0, 1, 1, 1, 1, 1, 0, 1, 1, 0,\n",
      "       1, 1, 1, 1, 1, 1, 1, 1, 1, 1, 1, 1, 0, 1, 0, 0, 1, 0, 1, 1, 1, 1,\n",
      "       1, 0, 1, 1, 0, 1, 0, 1, 1, 0, 1, 0, 1, 1, 1, 1, 1, 1, 1, 1, 0, 0,\n",
      "       1, 1, 1, 1, 1, 1, 0, 1, 1, 1, 1, 1, 1, 1, 1, 1, 1, 0, 1, 1, 1, 1,\n",
      "       1, 1, 1, 0, 1, 0, 1, 1, 0, 1, 1, 1, 1, 1, 0, 0, 1, 0, 1, 0, 1, 1,\n",
      "       1, 1, 1, 0, 1, 1, 0, 1, 0, 1, 0, 0, 1, 1, 1, 0, 1, 1, 1, 1, 1, 1,\n",
      "       1, 1, 1, 1, 1, 0, 1, 0, 0, 1, 1, 1, 1, 1, 1, 1, 1, 1, 1, 1, 1, 1,\n",
      "       1, 1, 1, 1, 1, 1, 1, 1, 1, 1, 1, 1, 0, 0, 0, 0, 0, 0, 1]), 'frame': None, 'target_names': array(['malignant', 'benign'], dtype='<U9'), 'DESCR': '.. _breast_cancer_dataset:\\n\\nBreast cancer wisconsin (diagnostic) dataset\\n--------------------------------------------\\n\\n**Data Set Characteristics:**\\n\\n    :Number of Instances: 569\\n\\n    :Number of Attributes: 30 numeric, predictive attributes and the class\\n\\n    :Attribute Information:\\n        - radius (mean of distances from center to points on the perimeter)\\n        - texture (standard deviation of gray-scale values)\\n        - perimeter\\n        - area\\n        - smoothness (local variation in radius lengths)\\n        - compactness (perimeter^2 / area - 1.0)\\n        - concavity (severity of concave portions of the contour)\\n        - concave points (number of concave portions of the contour)\\n        - symmetry\\n        - fractal dimension (\"coastline approximation\" - 1)\\n\\n        The mean, standard error, and \"worst\" or largest (mean of the three\\n        worst/largest values) of these features were computed for each image,\\n        resulting in 30 features.  For instance, field 0 is Mean Radius, field\\n        10 is Radius SE, field 20 is Worst Radius.\\n\\n        - class:\\n                - WDBC-Malignant\\n                - WDBC-Benign\\n\\n    :Summary Statistics:\\n\\n    ===================================== ====== ======\\n                                           Min    Max\\n    ===================================== ====== ======\\n    radius (mean):                        6.981  28.11\\n    texture (mean):                       9.71   39.28\\n    perimeter (mean):                     43.79  188.5\\n    area (mean):                          143.5  2501.0\\n    smoothness (mean):                    0.053  0.163\\n    compactness (mean):                   0.019  0.345\\n    concavity (mean):                     0.0    0.427\\n    concave points (mean):                0.0    0.201\\n    symmetry (mean):                      0.106  0.304\\n    fractal dimension (mean):             0.05   0.097\\n    radius (standard error):              0.112  2.873\\n    texture (standard error):             0.36   4.885\\n    perimeter (standard error):           0.757  21.98\\n    area (standard error):                6.802  542.2\\n    smoothness (standard error):          0.002  0.031\\n    compactness (standard error):         0.002  0.135\\n    concavity (standard error):           0.0    0.396\\n    concave points (standard error):      0.0    0.053\\n    symmetry (standard error):            0.008  0.079\\n    fractal dimension (standard error):   0.001  0.03\\n    radius (worst):                       7.93   36.04\\n    texture (worst):                      12.02  49.54\\n    perimeter (worst):                    50.41  251.2\\n    area (worst):                         185.2  4254.0\\n    smoothness (worst):                   0.071  0.223\\n    compactness (worst):                  0.027  1.058\\n    concavity (worst):                    0.0    1.252\\n    concave points (worst):               0.0    0.291\\n    symmetry (worst):                     0.156  0.664\\n    fractal dimension (worst):            0.055  0.208\\n    ===================================== ====== ======\\n\\n    :Missing Attribute Values: None\\n\\n    :Class Distribution: 212 - Malignant, 357 - Benign\\n\\n    :Creator:  Dr. William H. Wolberg, W. Nick Street, Olvi L. Mangasarian\\n\\n    :Donor: Nick Street\\n\\n    :Date: November, 1995\\n\\nThis is a copy of UCI ML Breast Cancer Wisconsin (Diagnostic) datasets.\\nhttps://goo.gl/U2Uwz2\\n\\nFeatures are computed from a digitized image of a fine needle\\naspirate (FNA) of a breast mass.  They describe\\ncharacteristics of the cell nuclei present in the image.\\n\\nSeparating plane described above was obtained using\\nMultisurface Method-Tree (MSM-T) [K. P. Bennett, \"Decision Tree\\nConstruction Via Linear Programming.\" Proceedings of the 4th\\nMidwest Artificial Intelligence and Cognitive Science Society,\\npp. 97-101, 1992], a classification method which uses linear\\nprogramming to construct a decision tree.  Relevant features\\nwere selected using an exhaustive search in the space of 1-4\\nfeatures and 1-3 separating planes.\\n\\nThe actual linear program used to obtain the separating plane\\nin the 3-dimensional space is that described in:\\n[K. P. Bennett and O. L. Mangasarian: \"Robust Linear\\nProgramming Discrimination of Two Linearly Inseparable Sets\",\\nOptimization Methods and Software 1, 1992, 23-34].\\n\\nThis database is also available through the UW CS ftp server:\\n\\nftp ftp.cs.wisc.edu\\ncd math-prog/cpo-dataset/machine-learn/WDBC/\\n\\n.. topic:: References\\n\\n   - W.N. Street, W.H. Wolberg and O.L. Mangasarian. Nuclear feature extraction \\n     for breast tumor diagnosis. IS&T/SPIE 1993 International Symposium on \\n     Electronic Imaging: Science and Technology, volume 1905, pages 861-870,\\n     San Jose, CA, 1993.\\n   - O.L. Mangasarian, W.N. Street and W.H. Wolberg. Breast cancer diagnosis and \\n     prognosis via linear programming. Operations Research, 43(4), pages 570-577, \\n     July-August 1995.\\n   - W.H. Wolberg, W.N. Street, and O.L. Mangasarian. Machine learning techniques\\n     to diagnose breast cancer from fine-needle aspirates. Cancer Letters 77 (1994) \\n     163-171.', 'feature_names': array(['mean radius', 'mean texture', 'mean perimeter', 'mean area',\n",
      "       'mean smoothness', 'mean compactness', 'mean concavity',\n",
      "       'mean concave points', 'mean symmetry', 'mean fractal dimension',\n",
      "       'radius error', 'texture error', 'perimeter error', 'area error',\n",
      "       'smoothness error', 'compactness error', 'concavity error',\n",
      "       'concave points error', 'symmetry error',\n",
      "       'fractal dimension error', 'worst radius', 'worst texture',\n",
      "       'worst perimeter', 'worst area', 'worst smoothness',\n",
      "       'worst compactness', 'worst concavity', 'worst concave points',\n",
      "       'worst symmetry', 'worst fractal dimension'], dtype='<U23'), 'filename': 'C:\\\\Users\\\\cegedim\\\\anaconda3\\\\lib\\\\site-packages\\\\sklearn\\\\datasets\\\\data\\\\breast_cancer.csv'}\n"
     ]
    }
   ],
   "metadata": {
    "colab": {
     "base_uri": "https://localhost:8080/"
    },
    "id": "3cstLvDxwlVN",
    "outputId": "4a15928c-0111-4b6d-eb48-717cc32c3728"
   }
  },
  {
   "cell_type": "code",
   "execution_count": 163,
   "source": [
    "cancer_data.keys()"
   ],
   "outputs": [
    {
     "output_type": "execute_result",
     "data": {
      "text/plain": [
       "dict_keys(['data', 'target', 'frame', 'target_names', 'DESCR', 'feature_names', 'filename'])"
      ]
     },
     "metadata": {},
     "execution_count": 163
    }
   ],
   "metadata": {
    "colab": {
     "base_uri": "https://localhost:8080/"
    },
    "id": "7GyqcGoX1l20",
    "outputId": "7e10f0d1-ee2d-4bfe-8d68-1470ae720250"
   }
  },
  {
   "cell_type": "code",
   "execution_count": 164,
   "source": [
    "(cancer_data['feature_names'], ['target'])"
   ],
   "outputs": [
    {
     "output_type": "execute_result",
     "data": {
      "text/plain": [
       "(array(['mean radius', 'mean texture', 'mean perimeter', 'mean area',\n",
       "        'mean smoothness', 'mean compactness', 'mean concavity',\n",
       "        'mean concave points', 'mean symmetry', 'mean fractal dimension',\n",
       "        'radius error', 'texture error', 'perimeter error', 'area error',\n",
       "        'smoothness error', 'compactness error', 'concavity error',\n",
       "        'concave points error', 'symmetry error',\n",
       "        'fractal dimension error', 'worst radius', 'worst texture',\n",
       "        'worst perimeter', 'worst area', 'worst smoothness',\n",
       "        'worst compactness', 'worst concavity', 'worst concave points',\n",
       "        'worst symmetry', 'worst fractal dimension'], dtype='<U23'),\n",
       " ['target'])"
      ]
     },
     "metadata": {},
     "execution_count": 164
    }
   ],
   "metadata": {
    "colab": {
     "base_uri": "https://localhost:8080/"
    },
    "id": "GUbbkIgN2uYj",
    "outputId": "826974a1-690b-453c-c580-514a1cc30ae2"
   }
  },
  {
   "cell_type": "code",
   "execution_count": 165,
   "source": [
    "df = pd.DataFrame(np.c_[cancer_data['data'],cancer_data['target']],columns = np.append(cancer_data['feature_names'], ['target']))"
   ],
   "outputs": [],
   "metadata": {
    "id": "dbP5QYly1rOb"
   }
  },
  {
   "cell_type": "code",
   "execution_count": 166,
   "source": [
    "df.head()"
   ],
   "outputs": [
    {
     "output_type": "execute_result",
     "data": {
      "text/plain": [
       "   mean radius  mean texture  mean perimeter  mean area  mean smoothness  \\\n",
       "0        17.99         10.38          122.80     1001.0          0.11840   \n",
       "1        20.57         17.77          132.90     1326.0          0.08474   \n",
       "2        19.69         21.25          130.00     1203.0          0.10960   \n",
       "3        11.42         20.38           77.58      386.1          0.14250   \n",
       "4        20.29         14.34          135.10     1297.0          0.10030   \n",
       "\n",
       "   mean compactness  mean concavity  mean concave points  mean symmetry  \\\n",
       "0           0.27760          0.3001              0.14710         0.2419   \n",
       "1           0.07864          0.0869              0.07017         0.1812   \n",
       "2           0.15990          0.1974              0.12790         0.2069   \n",
       "3           0.28390          0.2414              0.10520         0.2597   \n",
       "4           0.13280          0.1980              0.10430         0.1809   \n",
       "\n",
       "   mean fractal dimension  ...  worst texture  worst perimeter  worst area  \\\n",
       "0                 0.07871  ...          17.33           184.60      2019.0   \n",
       "1                 0.05667  ...          23.41           158.80      1956.0   \n",
       "2                 0.05999  ...          25.53           152.50      1709.0   \n",
       "3                 0.09744  ...          26.50            98.87       567.7   \n",
       "4                 0.05883  ...          16.67           152.20      1575.0   \n",
       "\n",
       "   worst smoothness  worst compactness  worst concavity  worst concave points  \\\n",
       "0            0.1622             0.6656           0.7119                0.2654   \n",
       "1            0.1238             0.1866           0.2416                0.1860   \n",
       "2            0.1444             0.4245           0.4504                0.2430   \n",
       "3            0.2098             0.8663           0.6869                0.2575   \n",
       "4            0.1374             0.2050           0.4000                0.1625   \n",
       "\n",
       "   worst symmetry  worst fractal dimension  target  \n",
       "0          0.4601                  0.11890     0.0  \n",
       "1          0.2750                  0.08902     0.0  \n",
       "2          0.3613                  0.08758     0.0  \n",
       "3          0.6638                  0.17300     0.0  \n",
       "4          0.2364                  0.07678     0.0  \n",
       "\n",
       "[5 rows x 31 columns]"
      ],
      "text/html": [
       "<div>\n",
       "<style scoped>\n",
       "    .dataframe tbody tr th:only-of-type {\n",
       "        vertical-align: middle;\n",
       "    }\n",
       "\n",
       "    .dataframe tbody tr th {\n",
       "        vertical-align: top;\n",
       "    }\n",
       "\n",
       "    .dataframe thead th {\n",
       "        text-align: right;\n",
       "    }\n",
       "</style>\n",
       "<table border=\"1\" class=\"dataframe\">\n",
       "  <thead>\n",
       "    <tr style=\"text-align: right;\">\n",
       "      <th></th>\n",
       "      <th>mean radius</th>\n",
       "      <th>mean texture</th>\n",
       "      <th>mean perimeter</th>\n",
       "      <th>mean area</th>\n",
       "      <th>mean smoothness</th>\n",
       "      <th>mean compactness</th>\n",
       "      <th>mean concavity</th>\n",
       "      <th>mean concave points</th>\n",
       "      <th>mean symmetry</th>\n",
       "      <th>mean fractal dimension</th>\n",
       "      <th>...</th>\n",
       "      <th>worst texture</th>\n",
       "      <th>worst perimeter</th>\n",
       "      <th>worst area</th>\n",
       "      <th>worst smoothness</th>\n",
       "      <th>worst compactness</th>\n",
       "      <th>worst concavity</th>\n",
       "      <th>worst concave points</th>\n",
       "      <th>worst symmetry</th>\n",
       "      <th>worst fractal dimension</th>\n",
       "      <th>target</th>\n",
       "    </tr>\n",
       "  </thead>\n",
       "  <tbody>\n",
       "    <tr>\n",
       "      <th>0</th>\n",
       "      <td>17.99</td>\n",
       "      <td>10.38</td>\n",
       "      <td>122.80</td>\n",
       "      <td>1001.0</td>\n",
       "      <td>0.11840</td>\n",
       "      <td>0.27760</td>\n",
       "      <td>0.3001</td>\n",
       "      <td>0.14710</td>\n",
       "      <td>0.2419</td>\n",
       "      <td>0.07871</td>\n",
       "      <td>...</td>\n",
       "      <td>17.33</td>\n",
       "      <td>184.60</td>\n",
       "      <td>2019.0</td>\n",
       "      <td>0.1622</td>\n",
       "      <td>0.6656</td>\n",
       "      <td>0.7119</td>\n",
       "      <td>0.2654</td>\n",
       "      <td>0.4601</td>\n",
       "      <td>0.11890</td>\n",
       "      <td>0.0</td>\n",
       "    </tr>\n",
       "    <tr>\n",
       "      <th>1</th>\n",
       "      <td>20.57</td>\n",
       "      <td>17.77</td>\n",
       "      <td>132.90</td>\n",
       "      <td>1326.0</td>\n",
       "      <td>0.08474</td>\n",
       "      <td>0.07864</td>\n",
       "      <td>0.0869</td>\n",
       "      <td>0.07017</td>\n",
       "      <td>0.1812</td>\n",
       "      <td>0.05667</td>\n",
       "      <td>...</td>\n",
       "      <td>23.41</td>\n",
       "      <td>158.80</td>\n",
       "      <td>1956.0</td>\n",
       "      <td>0.1238</td>\n",
       "      <td>0.1866</td>\n",
       "      <td>0.2416</td>\n",
       "      <td>0.1860</td>\n",
       "      <td>0.2750</td>\n",
       "      <td>0.08902</td>\n",
       "      <td>0.0</td>\n",
       "    </tr>\n",
       "    <tr>\n",
       "      <th>2</th>\n",
       "      <td>19.69</td>\n",
       "      <td>21.25</td>\n",
       "      <td>130.00</td>\n",
       "      <td>1203.0</td>\n",
       "      <td>0.10960</td>\n",
       "      <td>0.15990</td>\n",
       "      <td>0.1974</td>\n",
       "      <td>0.12790</td>\n",
       "      <td>0.2069</td>\n",
       "      <td>0.05999</td>\n",
       "      <td>...</td>\n",
       "      <td>25.53</td>\n",
       "      <td>152.50</td>\n",
       "      <td>1709.0</td>\n",
       "      <td>0.1444</td>\n",
       "      <td>0.4245</td>\n",
       "      <td>0.4504</td>\n",
       "      <td>0.2430</td>\n",
       "      <td>0.3613</td>\n",
       "      <td>0.08758</td>\n",
       "      <td>0.0</td>\n",
       "    </tr>\n",
       "    <tr>\n",
       "      <th>3</th>\n",
       "      <td>11.42</td>\n",
       "      <td>20.38</td>\n",
       "      <td>77.58</td>\n",
       "      <td>386.1</td>\n",
       "      <td>0.14250</td>\n",
       "      <td>0.28390</td>\n",
       "      <td>0.2414</td>\n",
       "      <td>0.10520</td>\n",
       "      <td>0.2597</td>\n",
       "      <td>0.09744</td>\n",
       "      <td>...</td>\n",
       "      <td>26.50</td>\n",
       "      <td>98.87</td>\n",
       "      <td>567.7</td>\n",
       "      <td>0.2098</td>\n",
       "      <td>0.8663</td>\n",
       "      <td>0.6869</td>\n",
       "      <td>0.2575</td>\n",
       "      <td>0.6638</td>\n",
       "      <td>0.17300</td>\n",
       "      <td>0.0</td>\n",
       "    </tr>\n",
       "    <tr>\n",
       "      <th>4</th>\n",
       "      <td>20.29</td>\n",
       "      <td>14.34</td>\n",
       "      <td>135.10</td>\n",
       "      <td>1297.0</td>\n",
       "      <td>0.10030</td>\n",
       "      <td>0.13280</td>\n",
       "      <td>0.1980</td>\n",
       "      <td>0.10430</td>\n",
       "      <td>0.1809</td>\n",
       "      <td>0.05883</td>\n",
       "      <td>...</td>\n",
       "      <td>16.67</td>\n",
       "      <td>152.20</td>\n",
       "      <td>1575.0</td>\n",
       "      <td>0.1374</td>\n",
       "      <td>0.2050</td>\n",
       "      <td>0.4000</td>\n",
       "      <td>0.1625</td>\n",
       "      <td>0.2364</td>\n",
       "      <td>0.07678</td>\n",
       "      <td>0.0</td>\n",
       "    </tr>\n",
       "  </tbody>\n",
       "</table>\n",
       "<p>5 rows × 31 columns</p>\n",
       "</div>"
      ]
     },
     "metadata": {},
     "execution_count": 166
    }
   ],
   "metadata": {
    "colab": {
     "base_uri": "https://localhost:8080/",
     "height": 261
    },
    "id": "7m6iykQX377B",
    "outputId": "beb5a325-ad39-4e14-a13e-6c446c4d2088"
   }
  },
  {
   "cell_type": "code",
   "execution_count": 167,
   "source": [
    "df.shape"
   ],
   "outputs": [
    {
     "output_type": "execute_result",
     "data": {
      "text/plain": [
       "(569, 31)"
      ]
     },
     "metadata": {},
     "execution_count": 167
    }
   ],
   "metadata": {
    "colab": {
     "base_uri": "https://localhost:8080/"
    },
    "id": "E8t9uGeS4DPO",
    "outputId": "e354b95f-f6a9-4b3a-b020-d24c09146fb0"
   }
  },
  {
   "cell_type": "code",
   "execution_count": 168,
   "source": [
    "print(df.corr()[\"target\"].abs().sort_values(ascending=False)) "
   ],
   "outputs": [
    {
     "output_type": "stream",
     "name": "stdout",
     "text": [
      "target                     1.000000\n",
      "worst concave points       0.793566\n",
      "worst perimeter            0.782914\n",
      "mean concave points        0.776614\n",
      "worst radius               0.776454\n",
      "mean perimeter             0.742636\n",
      "worst area                 0.733825\n",
      "mean radius                0.730029\n",
      "mean area                  0.708984\n",
      "mean concavity             0.696360\n",
      "worst concavity            0.659610\n",
      "mean compactness           0.596534\n",
      "worst compactness          0.590998\n",
      "radius error               0.567134\n",
      "perimeter error            0.556141\n",
      "area error                 0.548236\n",
      "worst texture              0.456903\n",
      "worst smoothness           0.421465\n",
      "worst symmetry             0.416294\n",
      "mean texture               0.415185\n",
      "concave points error       0.408042\n",
      "mean smoothness            0.358560\n",
      "mean symmetry              0.330499\n",
      "worst fractal dimension    0.323872\n",
      "compactness error          0.292999\n",
      "concavity error            0.253730\n",
      "fractal dimension error    0.077972\n",
      "smoothness error           0.067016\n",
      "mean fractal dimension     0.012838\n",
      "texture error              0.008303\n",
      "symmetry error             0.006522\n",
      "Name: target, dtype: float64\n"
     ]
    }
   ],
   "metadata": {
    "colab": {
     "base_uri": "https://localhost:8080/"
    },
    "id": "H40GNUYe4Sj9",
    "outputId": "cee0f5b7-de60-45c1-e9e1-c2fe43676f58"
   }
  },
  {
   "cell_type": "markdown",
   "source": [
    "Train test split:\n"
   ],
   "metadata": {
    "id": "xU8eeOHB6ynn"
   }
  },
  {
   "cell_type": "code",
   "execution_count": 169,
   "source": [
    "from sklearn.model_selection import train_test_split\r\n",
    "data = df.drop(\"target\",axis=1)\r\n",
    "target = df[\"target\"]\r\n",
    "X_train, X_test, y_train, y_test = train_test_split(data,target, test_size = 0.2)"
   ],
   "outputs": [],
   "metadata": {
    "id": "cRvmquXm5WDh"
   }
  },
  {
   "cell_type": "code",
   "execution_count": 170,
   "source": [
    "from sklearn import svm\r\n",
    "from sklearn.metrics import accuracy_score\r\n",
    "\r\n",
    "sv = svm.SVC()\r\n",
    "sv.fit(X_train, y_train)\r\n",
    "y_pred= sv.predict(X_test)\r\n",
    "\r\n",
    "print(\"The accuracy score achieved using Linear SVM is: \"+str(accuracy_score(y_pred,y_test)*100)+\" %\")"
   ],
   "outputs": [
    {
     "output_type": "stream",
     "name": "stdout",
     "text": [
      "The accuracy score achieved using Linear SVM is: 92.98245614035088 %\n"
     ]
    }
   ],
   "metadata": {
    "colab": {
     "base_uri": "https://localhost:8080/"
    },
    "id": "PuIPL6XR65KF",
    "outputId": "df122661-5345-4506-9611-54b13eb7dae9"
   }
  },
  {
   "cell_type": "code",
   "execution_count": 171,
   "source": [
    "y_pred"
   ],
   "outputs": [
    {
     "output_type": "execute_result",
     "data": {
      "text/plain": [
       "array([0., 1., 1., 0., 0., 1., 1., 1., 1., 0., 0., 0., 1., 1., 1., 1., 1.,\n",
       "       0., 0., 1., 1., 1., 1., 0., 0., 1., 0., 1., 0., 0., 0., 0., 1., 1.,\n",
       "       1., 0., 1., 0., 0., 1., 1., 1., 0., 0., 1., 0., 1., 1., 0., 1., 1.,\n",
       "       1., 1., 1., 0., 1., 1., 1., 0., 0., 1., 1., 1., 1., 1., 1., 0., 1.,\n",
       "       1., 0., 0., 0., 0., 0., 1., 0., 1., 1., 1., 1., 1., 0., 1., 1., 1.,\n",
       "       1., 1., 1., 0., 1., 1., 1., 1., 1., 0., 0., 0., 0., 1., 0., 0., 1.,\n",
       "       0., 0., 0., 1., 1., 0., 1., 1., 1., 1., 0., 1.])"
      ]
     },
     "metadata": {},
     "execution_count": 171
    }
   ],
   "metadata": {
    "colab": {
     "base_uri": "https://localhost:8080/"
    },
    "id": "rQT-3EpH7wKI",
    "outputId": "f8aa305f-3956-4fde-bb52-a9335e87bc3b"
   }
  },
  {
   "cell_type": "code",
   "execution_count": 172,
   "source": [
    "from sklearn.metrics import classification_report, confusion_matrix\r\n",
    "\r\n",
    "cm = confusion_matrix(y_test, y_pred)"
   ],
   "outputs": [],
   "metadata": {
    "id": "DrLoMRZ-8t8Q"
   }
  },
  {
   "cell_type": "code",
   "execution_count": 173,
   "source": [
    "sns.heatmap(cm, annot=True)"
   ],
   "outputs": [
    {
     "output_type": "execute_result",
     "data": {
      "text/plain": [
       "<AxesSubplot:>"
      ]
     },
     "metadata": {},
     "execution_count": 173
    },
    {
     "output_type": "display_data",
     "data": {
      "text/plain": [
       "<Figure size 432x288 with 2 Axes>"
      ],
      "image/png": "[encoded data removed]"
     },
     "metadata": {
      "needs_background": "light"
     }
    }
   ],
   "metadata": {
    "id": "UKRjQPnm9BbR"
   }
  },
  {
   "cell_type": "code",
   "execution_count": 174,
   "source": [
    "from sklearn import preprocessing\r\n",
    "range_train = (X_train - X_train.min()).max()\r\n",
    "range_test = (X_test - X_test.min()).max()\r\n",
    "\r\n",
    "\r\n",
    "norm_x_train= ( X_train - X_train.min() )/range_train\r\n",
    "norm_x_test= ( X_test - X_test.min() )/range_test"
   ],
   "outputs": [],
   "metadata": {
    "id": "ftl7RZbV9QfC"
   }
  },
  {
   "cell_type": "code",
   "execution_count": 175,
   "source": [
    "norm_x_train"
   ],
   "outputs": [
    {
     "output_type": "execute_result",
     "data": {
      "text/plain": [
       "     mean radius  mean texture  mean perimeter  mean area  mean smoothness  \\\n",
       "339     0.810026      0.492391        0.798688   0.758127         0.439984   \n",
       "93      0.294895      0.290497        0.287951   0.184987         0.393399   \n",
       "485     0.243689      0.226581        0.259991   0.147288         0.323422   \n",
       "299     0.144349      0.452486        0.140695   0.078765         0.386461   \n",
       "464     0.280557      0.287792        0.270653   0.176428         0.120428   \n",
       "..           ...           ...             ...        ...              ...   \n",
       "321     0.638486      0.336490        0.619744   0.530679         0.175339   \n",
       "151     0.027037      0.371660        0.039442   0.016109         0.312618   \n",
       "106     0.202212      0.291512        0.202729   0.116417         0.512340   \n",
       "15      0.350709      0.602976        0.363480   0.234853         0.509367   \n",
       "152     0.104460      0.190396        0.117805   0.062416         0.442958   \n",
       "\n",
       "     mean compactness  mean concavity  mean concave points  mean symmetry  \\\n",
       "339          0.334090        0.540769             0.700795       0.399242   \n",
       "93           0.191001        0.093112             0.138171       0.313109   \n",
       "485          0.404024        0.361762             0.240855       0.553629   \n",
       "299          0.149040        0.058458             0.093191       0.343987   \n",
       "464          0.124410        0.113847             0.142644       0.213434   \n",
       "..                ...             ...                  ...            ...   \n",
       "321          0.203239        0.270619             0.383996       0.470206   \n",
       "151          0.340838        0.309513             0.107753       0.629469   \n",
       "106          0.252500        0.165651             0.173211       0.401408   \n",
       "15           0.429790        0.384021             0.366004       0.673348   \n",
       "152          0.431017        0.962512             0.390507       0.806067   \n",
       "\n",
       "     mean fractal dimension  ...  worst radius  worst texture  \\\n",
       "339                0.107414  ...      0.899395       0.532442   \n",
       "93                 0.150379  ...      0.262637       0.396130   \n",
       "485                0.490522  ...      0.208654       0.256403   \n",
       "299                0.328559  ...      0.092099       0.347183   \n",
       "464                0.116470  ...      0.254458       0.337792   \n",
       "..                      ...  ...           ...            ...   \n",
       "321                0.021061  ...      0.588173       0.313318   \n",
       "151                0.687658  ...      0.016931       0.503699   \n",
       "106                0.320977  ...      0.182480       0.490609   \n",
       "15                 0.438290  ...      0.359153       0.714570   \n",
       "152                0.905644  ...      0.095779       0.212578   \n",
       "\n",
       "     worst perimeter  worst area  worst smoothness  worst compactness  \\\n",
       "339         0.846119    0.836055          0.530476           0.233344   \n",
       "93          0.246553    0.148298          0.414251           0.143406   \n",
       "485         0.247869    0.111270          0.305950           0.367523   \n",
       "299         0.089297    0.043355          0.284818           0.057097   \n",
       "464         0.232309    0.144620          0.376610           0.164168   \n",
       "..               ...         ...               ...                ...   \n",
       "321         0.547509    0.446765          0.226045           0.122644   \n",
       "151         0.020537    0.008166          0.606419           0.391681   \n",
       "106         0.177450    0.092912          0.644720           0.231598   \n",
       "15          0.398204    0.224286          0.638117           0.611627   \n",
       "152         0.094674    0.048903          0.383213           0.242464   \n",
       "\n",
       "     worst concavity  worst concave points  worst symmetry  \\\n",
       "339         0.384904              0.717869        0.202641   \n",
       "93          0.110304              0.271856        0.219397   \n",
       "485         0.391054              0.461168        0.328405   \n",
       "299         0.033211              0.107388        0.130495   \n",
       "464         0.149840              0.359107        0.132072   \n",
       "..               ...                   ...             ...   \n",
       "321         0.208147              0.489691        0.293712   \n",
       "151         0.429792              0.270756        0.346343   \n",
       "106         0.229473              0.418557        0.244628   \n",
       "15          0.561182              0.588316        0.522965   \n",
       "152         0.656230              0.539863        0.304159   \n",
       "\n",
       "     worst fractal dimension  \n",
       "339                 0.146530  \n",
       "93                  0.072084  \n",
       "485                 0.317198  \n",
       "299                 0.083497  \n",
       "464                 0.093205  \n",
       "..                       ...  \n",
       "321                 0.028139  \n",
       "151                 0.613669  \n",
       "106                 0.235668  \n",
       "15                  0.518562  \n",
       "152                 0.464778  \n",
       "\n",
       "[455 rows x 30 columns]"
      ],
      "text/html": [
       "<div>\n",
       "<style scoped>\n",
       "    .dataframe tbody tr th:only-of-type {\n",
       "        vertical-align: middle;\n",
       "    }\n",
       "\n",
       "    .dataframe tbody tr th {\n",
       "        vertical-align: top;\n",
       "    }\n",
       "\n",
       "    .dataframe thead th {\n",
       "        text-align: right;\n",
       "    }\n",
       "</style>\n",
       "<table border=\"1\" class=\"dataframe\">\n",
       "  <thead>\n",
       "    <tr style=\"text-align: right;\">\n",
       "      <th></th>\n",
       "      <th>mean radius</th>\n",
       "      <th>mean texture</th>\n",
       "      <th>mean perimeter</th>\n",
       "      <th>mean area</th>\n",
       "      <th>mean smoothness</th>\n",
       "      <th>mean compactness</th>\n",
       "      <th>mean concavity</th>\n",
       "      <th>mean concave points</th>\n",
       "      <th>mean symmetry</th>\n",
       "      <th>mean fractal dimension</th>\n",
       "      <th>...</th>\n",
       "      <th>worst radius</th>\n",
       "      <th>worst texture</th>\n",
       "      <th>worst perimeter</th>\n",
       "      <th>worst area</th>\n",
       "      <th>worst smoothness</th>\n",
       "      <th>worst compactness</th>\n",
       "      <th>worst concavity</th>\n",
       "      <th>worst concave points</th>\n",
       "      <th>worst symmetry</th>\n",
       "      <th>worst fractal dimension</th>\n",
       "    </tr>\n",
       "  </thead>\n",
       "  <tbody>\n",
       "    <tr>\n",
       "      <th>339</th>\n",
       "      <td>0.810026</td>\n",
       "      <td>0.492391</td>\n",
       "      <td>0.798688</td>\n",
       "      <td>0.758127</td>\n",
       "      <td>0.439984</td>\n",
       "      <td>0.334090</td>\n",
       "      <td>0.540769</td>\n",
       "      <td>0.700795</td>\n",
       "      <td>0.399242</td>\n",
       "      <td>0.107414</td>\n",
       "      <td>...</td>\n",
       "      <td>0.899395</td>\n",
       "      <td>0.532442</td>\n",
       "      <td>0.846119</td>\n",
       "      <td>0.836055</td>\n",
       "      <td>0.530476</td>\n",
       "      <td>0.233344</td>\n",
       "      <td>0.384904</td>\n",
       "      <td>0.717869</td>\n",
       "      <td>0.202641</td>\n",
       "      <td>0.146530</td>\n",
       "    </tr>\n",
       "    <tr>\n",
       "      <th>93</th>\n",
       "      <td>0.294895</td>\n",
       "      <td>0.290497</td>\n",
       "      <td>0.287951</td>\n",
       "      <td>0.184987</td>\n",
       "      <td>0.393399</td>\n",
       "      <td>0.191001</td>\n",
       "      <td>0.093112</td>\n",
       "      <td>0.138171</td>\n",
       "      <td>0.313109</td>\n",
       "      <td>0.150379</td>\n",
       "      <td>...</td>\n",
       "      <td>0.262637</td>\n",
       "      <td>0.396130</td>\n",
       "      <td>0.246553</td>\n",
       "      <td>0.148298</td>\n",
       "      <td>0.414251</td>\n",
       "      <td>0.143406</td>\n",
       "      <td>0.110304</td>\n",
       "      <td>0.271856</td>\n",
       "      <td>0.219397</td>\n",
       "      <td>0.072084</td>\n",
       "    </tr>\n",
       "    <tr>\n",
       "      <th>485</th>\n",
       "      <td>0.243689</td>\n",
       "      <td>0.226581</td>\n",
       "      <td>0.259991</td>\n",
       "      <td>0.147288</td>\n",
       "      <td>0.323422</td>\n",
       "      <td>0.404024</td>\n",
       "      <td>0.361762</td>\n",
       "      <td>0.240855</td>\n",
       "      <td>0.553629</td>\n",
       "      <td>0.490522</td>\n",
       "      <td>...</td>\n",
       "      <td>0.208654</td>\n",
       "      <td>0.256403</td>\n",
       "      <td>0.247869</td>\n",
       "      <td>0.111270</td>\n",
       "      <td>0.305950</td>\n",
       "      <td>0.367523</td>\n",
       "      <td>0.391054</td>\n",
       "      <td>0.461168</td>\n",
       "      <td>0.328405</td>\n",
       "      <td>0.317198</td>\n",
       "    </tr>\n",
       "    <tr>\n",
       "      <th>299</th>\n",
       "      <td>0.144349</td>\n",
       "      <td>0.452486</td>\n",
       "      <td>0.140695</td>\n",
       "      <td>0.078765</td>\n",
       "      <td>0.386461</td>\n",
       "      <td>0.149040</td>\n",
       "      <td>0.058458</td>\n",
       "      <td>0.093191</td>\n",
       "      <td>0.343987</td>\n",
       "      <td>0.328559</td>\n",
       "      <td>...</td>\n",
       "      <td>0.092099</td>\n",
       "      <td>0.347183</td>\n",
       "      <td>0.089297</td>\n",
       "      <td>0.043355</td>\n",
       "      <td>0.284818</td>\n",
       "      <td>0.057097</td>\n",
       "      <td>0.033211</td>\n",
       "      <td>0.107388</td>\n",
       "      <td>0.130495</td>\n",
       "      <td>0.083497</td>\n",
       "    </tr>\n",
       "    <tr>\n",
       "      <th>464</th>\n",
       "      <td>0.280557</td>\n",
       "      <td>0.287792</td>\n",
       "      <td>0.270653</td>\n",
       "      <td>0.176428</td>\n",
       "      <td>0.120428</td>\n",
       "      <td>0.124410</td>\n",
       "      <td>0.113847</td>\n",
       "      <td>0.142644</td>\n",
       "      <td>0.213434</td>\n",
       "      <td>0.116470</td>\n",
       "      <td>...</td>\n",
       "      <td>0.254458</td>\n",
       "      <td>0.337792</td>\n",
       "      <td>0.232309</td>\n",
       "      <td>0.144620</td>\n",
       "      <td>0.376610</td>\n",
       "      <td>0.164168</td>\n",
       "      <td>0.149840</td>\n",
       "      <td>0.359107</td>\n",
       "      <td>0.132072</td>\n",
       "      <td>0.093205</td>\n",
       "    </tr>\n",
       "    <tr>\n",
       "      <th>...</th>\n",
       "      <td>...</td>\n",
       "      <td>...</td>\n",
       "      <td>...</td>\n",
       "      <td>...</td>\n",
       "      <td>...</td>\n",
       "      <td>...</td>\n",
       "      <td>...</td>\n",
       "      <td>...</td>\n",
       "      <td>...</td>\n",
       "      <td>...</td>\n",
       "      <td>...</td>\n",
       "      <td>...</td>\n",
       "      <td>...</td>\n",
       "      <td>...</td>\n",
       "      <td>...</td>\n",
       "      <td>...</td>\n",
       "      <td>...</td>\n",
       "      <td>...</td>\n",
       "      <td>...</td>\n",
       "      <td>...</td>\n",
       "      <td>...</td>\n",
       "    </tr>\n",
       "    <tr>\n",
       "      <th>321</th>\n",
       "      <td>0.638486</td>\n",
       "      <td>0.336490</td>\n",
       "      <td>0.619744</td>\n",
       "      <td>0.530679</td>\n",
       "      <td>0.175339</td>\n",
       "      <td>0.203239</td>\n",
       "      <td>0.270619</td>\n",
       "      <td>0.383996</td>\n",
       "      <td>0.470206</td>\n",
       "      <td>0.021061</td>\n",
       "      <td>...</td>\n",
       "      <td>0.588173</td>\n",
       "      <td>0.313318</td>\n",
       "      <td>0.547509</td>\n",
       "      <td>0.446765</td>\n",
       "      <td>0.226045</td>\n",
       "      <td>0.122644</td>\n",
       "      <td>0.208147</td>\n",
       "      <td>0.489691</td>\n",
       "      <td>0.293712</td>\n",
       "      <td>0.028139</td>\n",
       "    </tr>\n",
       "    <tr>\n",
       "      <th>151</th>\n",
       "      <td>0.027037</td>\n",
       "      <td>0.371660</td>\n",
       "      <td>0.039442</td>\n",
       "      <td>0.016109</td>\n",
       "      <td>0.312618</td>\n",
       "      <td>0.340838</td>\n",
       "      <td>0.309513</td>\n",
       "      <td>0.107753</td>\n",
       "      <td>0.629469</td>\n",
       "      <td>0.687658</td>\n",
       "      <td>...</td>\n",
       "      <td>0.016931</td>\n",
       "      <td>0.503699</td>\n",
       "      <td>0.020537</td>\n",
       "      <td>0.008166</td>\n",
       "      <td>0.606419</td>\n",
       "      <td>0.391681</td>\n",
       "      <td>0.429792</td>\n",
       "      <td>0.270756</td>\n",
       "      <td>0.346343</td>\n",
       "      <td>0.613669</td>\n",
       "    </tr>\n",
       "    <tr>\n",
       "      <th>106</th>\n",
       "      <td>0.202212</td>\n",
       "      <td>0.291512</td>\n",
       "      <td>0.202729</td>\n",
       "      <td>0.116417</td>\n",
       "      <td>0.512340</td>\n",
       "      <td>0.252500</td>\n",
       "      <td>0.165651</td>\n",
       "      <td>0.173211</td>\n",
       "      <td>0.401408</td>\n",
       "      <td>0.320977</td>\n",
       "      <td>...</td>\n",
       "      <td>0.182480</td>\n",
       "      <td>0.490609</td>\n",
       "      <td>0.177450</td>\n",
       "      <td>0.092912</td>\n",
       "      <td>0.644720</td>\n",
       "      <td>0.231598</td>\n",
       "      <td>0.229473</td>\n",
       "      <td>0.418557</td>\n",
       "      <td>0.244628</td>\n",
       "      <td>0.235668</td>\n",
       "    </tr>\n",
       "    <tr>\n",
       "      <th>15</th>\n",
       "      <td>0.350709</td>\n",
       "      <td>0.602976</td>\n",
       "      <td>0.363480</td>\n",
       "      <td>0.234853</td>\n",
       "      <td>0.509367</td>\n",
       "      <td>0.429790</td>\n",
       "      <td>0.384021</td>\n",
       "      <td>0.366004</td>\n",
       "      <td>0.673348</td>\n",
       "      <td>0.438290</td>\n",
       "      <td>...</td>\n",
       "      <td>0.359153</td>\n",
       "      <td>0.714570</td>\n",
       "      <td>0.398204</td>\n",
       "      <td>0.224286</td>\n",
       "      <td>0.638117</td>\n",
       "      <td>0.611627</td>\n",
       "      <td>0.561182</td>\n",
       "      <td>0.588316</td>\n",
       "      <td>0.522965</td>\n",
       "      <td>0.518562</td>\n",
       "    </tr>\n",
       "    <tr>\n",
       "      <th>152</th>\n",
       "      <td>0.104460</td>\n",
       "      <td>0.190396</td>\n",
       "      <td>0.117805</td>\n",
       "      <td>0.062416</td>\n",
       "      <td>0.442958</td>\n",
       "      <td>0.431017</td>\n",
       "      <td>0.962512</td>\n",
       "      <td>0.390507</td>\n",
       "      <td>0.806067</td>\n",
       "      <td>0.905644</td>\n",
       "      <td>...</td>\n",
       "      <td>0.095779</td>\n",
       "      <td>0.212578</td>\n",
       "      <td>0.094674</td>\n",
       "      <td>0.048903</td>\n",
       "      <td>0.383213</td>\n",
       "      <td>0.242464</td>\n",
       "      <td>0.656230</td>\n",
       "      <td>0.539863</td>\n",
       "      <td>0.304159</td>\n",
       "      <td>0.464778</td>\n",
       "    </tr>\n",
       "  </tbody>\n",
       "</table>\n",
       "<p>455 rows × 30 columns</p>\n",
       "</div>"
      ]
     },
     "metadata": {},
     "execution_count": 175
    }
   ],
   "metadata": {
    "id": "YlAUFZWmA8eq"
   }
  },
  {
   "cell_type": "code",
   "execution_count": 176,
   "source": [
    "sns.scatterplot(x = X_train['mean area'], y = X_train['mean smoothness'], hue = y_train)"
   ],
   "outputs": [
    {
     "output_type": "execute_result",
     "data": {
      "text/plain": [
       "<AxesSubplot:xlabel='mean area', ylabel='mean smoothness'>"
      ]
     },
     "metadata": {},
     "execution_count": 176
    },
    {
     "output_type": "display_data",
     "data": {
      "text/plain": [
       "<Figure size 432x288 with 1 Axes>"
      ],
      "image/png": "[encoded data removed]"
     },
     "metadata": {
      "needs_background": "light"
     }
    }
   ],
   "metadata": {
    "id": "zpvAbMdSBTHO"
   }
  },
  {
   "cell_type": "code",
   "execution_count": 177,
   "source": [
    "sns.scatterplot(x = norm_x_train['mean area'], y = norm_x_train['mean smoothness'], hue = y_train)"
   ],
   "outputs": [
    {
     "output_type": "execute_result",
     "data": {
      "text/plain": [
       "<AxesSubplot:xlabel='mean area', ylabel='mean smoothness'>"
      ]
     },
     "metadata": {},
     "execution_count": 177
    },
    {
     "output_type": "display_data",
     "data": {
      "text/plain": [
       "<Figure size 432x288 with 1 Axes>"
      ],
      "image/png": "[encoded data removed]"
     },
     "metadata": {
      "needs_background": "light"
     }
    }
   ],
   "metadata": {
    "id": "9kMxry4sBfJ_"
   }
  },
  {
   "cell_type": "code",
   "execution_count": 178,
   "source": [
    "from sklearn.svm import SVC \r\n",
    "from sklearn.metrics import classification_report, confusion_matrix\r\n",
    "\r\n",
    "svc_model = SVC()\r\n",
    "\r\n",
    "svc_model.fit(norm_x_train, y_train)\r\n",
    "\r\n"
   ],
   "outputs": [
    {
     "output_type": "execute_result",
     "data": {
      "text/plain": [
       "SVC()"
      ]
     },
     "metadata": {},
     "execution_count": 178
    }
   ],
   "metadata": {}
  },
  {
   "cell_type": "code",
   "execution_count": 179,
   "source": [
    "y_predict = svc_model.predict(norm_x_test)\r\n",
    "cm = confusion_matrix(y_test, y_predict)\r\n",
    "\r\n",
    "sns.heatmap(cm,annot=True,fmt=\"d\")"
   ],
   "outputs": [
    {
     "output_type": "execute_result",
     "data": {
      "text/plain": [
       "<AxesSubplot:>"
      ]
     },
     "metadata": {},
     "execution_count": 179
    },
    {
     "output_type": "display_data",
     "data": {
      "text/plain": [
       "<Figure size 432x288 with 2 Axes>"
      ],
      "image/png": "[encoded data removed]"
     },
     "metadata": {
      "needs_background": "light"
     }
    }
   ],
   "metadata": {}
  },
  {
   "cell_type": "code",
   "execution_count": 183,
   "source": [
    "print(\"The accuracy score achieved using normalized Linear SVM is: \"+str(accuracy_score(y_predict,y_test)*100)+\" %\")"
   ],
   "outputs": [
    {
     "output_type": "stream",
     "name": "stdout",
     "text": [
      "The accuracy score achieved using normalized Linear SVM is: 95.6140350877193 %\n"
     ]
    }
   ],
   "metadata": {}
  },
  {
   "cell_type": "code",
   "execution_count": 184,
   "source": [
    "param_grid = {'C': [0.1, 1, 10, 100], 'gamma': [1, 0.1, 0.01, 0.001], 'kernel': ['rbf']} "
   ],
   "outputs": [],
   "metadata": {}
  },
  {
   "cell_type": "code",
   "execution_count": 185,
   "source": [
    "from sklearn.model_selection import GridSearchCV\r\n",
    "grid = GridSearchCV(svm.SVC(),param_grid,refit=True,verbose=10)\r\n",
    "grid.fit(norm_x_train,y_train)\r\n",
    "grid.best_params_"
   ],
   "outputs": [
    {
     "output_type": "stream",
     "name": "stdout",
     "text": [
      "Fitting 5 folds for each of 16 candidates, totalling 80 fits\n",
      "[CV 1/5; 1/16] START C=0.1, gamma=1, kernel=rbf.................................\n",
      "[CV 1/5; 1/16] END ...............C=0.1, gamma=1, kernel=rbf; total time=   0.0s\n",
      "[CV 2/5; 1/16] START C=0.1, gamma=1, kernel=rbf.................................\n",
      "[CV 2/5; 1/16] END ...............C=0.1, gamma=1, kernel=rbf; total time=   0.0s\n",
      "[CV 3/5; 1/16] START C=0.1, gamma=1, kernel=rbf.................................\n",
      "[CV 3/5; 1/16] END ...............C=0.1, gamma=1, kernel=rbf; total time=   0.0s\n",
      "[CV 4/5; 1/16] START C=0.1, gamma=1, kernel=rbf.................................\n",
      "[CV 4/5; 1/16] END ...............C=0.1, gamma=1, kernel=rbf; total time=   0.0s\n",
      "[CV 5/5; 1/16] START C=0.1, gamma=1, kernel=rbf.................................\n",
      "[CV 5/5; 1/16] END ...............C=0.1, gamma=1, kernel=rbf; total time=   0.0s\n",
      "[CV 1/5; 2/16] START C=0.1, gamma=0.1, kernel=rbf...............................\n",
      "[CV 1/5; 2/16] END .............C=0.1, gamma=0.1, kernel=rbf; total time=   0.0s\n",
      "[CV 2/5; 2/16] START C=0.1, gamma=0.1, kernel=rbf...............................\n",
      "[CV 2/5; 2/16] END .............C=0.1, gamma=0.1, kernel=rbf; total time=   0.0s\n",
      "[CV 3/5; 2/16] START C=0.1, gamma=0.1, kernel=rbf...............................\n",
      "[CV 3/5; 2/16] END .............C=0.1, gamma=0.1, kernel=rbf; total time=   0.0s\n",
      "[CV 4/5; 2/16] START C=0.1, gamma=0.1, kernel=rbf...............................\n",
      "[CV 4/5; 2/16] END .............C=0.1, gamma=0.1, kernel=rbf; total time=   0.0s\n",
      "[CV 5/5; 2/16] START C=0.1, gamma=0.1, kernel=rbf...............................\n",
      "[CV 5/5; 2/16] END .............C=0.1, gamma=0.1, kernel=rbf; total time=   0.0s\n",
      "[CV 1/5; 3/16] START C=0.1, gamma=0.01, kernel=rbf..............................\n",
      "[CV 1/5; 3/16] END ............C=0.1, gamma=0.01, kernel=rbf; total time=   0.0s\n",
      "[CV 2/5; 3/16] START C=0.1, gamma=0.01, kernel=rbf..............................\n",
      "[CV 2/5; 3/16] END ............C=0.1, gamma=0.01, kernel=rbf; total time=   0.0s\n",
      "[CV 3/5; 3/16] START C=0.1, gamma=0.01, kernel=rbf..............................\n",
      "[CV 3/5; 3/16] END ............C=0.1, gamma=0.01, kernel=rbf; total time=   0.0s\n",
      "[CV 4/5; 3/16] START C=0.1, gamma=0.01, kernel=rbf..............................\n",
      "[CV 4/5; 3/16] END ............C=0.1, gamma=0.01, kernel=rbf; total time=   0.0s\n",
      "[CV 5/5; 3/16] START C=0.1, gamma=0.01, kernel=rbf..............................\n",
      "[CV 5/5; 3/16] END ............C=0.1, gamma=0.01, kernel=rbf; total time=   0.0s\n",
      "[CV 1/5; 4/16] START C=0.1, gamma=0.001, kernel=rbf.............................\n",
      "[CV 1/5; 4/16] END ...........C=0.1, gamma=0.001, kernel=rbf; total time=   0.0s\n",
      "[CV 2/5; 4/16] START C=0.1, gamma=0.001, kernel=rbf.............................\n",
      "[CV 2/5; 4/16] END ...........C=0.1, gamma=0.001, kernel=rbf; total time=   0.0s\n",
      "[CV 3/5; 4/16] START C=0.1, gamma=0.001, kernel=rbf.............................\n",
      "[CV 3/5; 4/16] END ...........C=0.1, gamma=0.001, kernel=rbf; total time=   0.0s\n",
      "[CV 4/5; 4/16] START C=0.1, gamma=0.001, kernel=rbf.............................\n",
      "[CV 4/5; 4/16] END ...........C=0.1, gamma=0.001, kernel=rbf; total time=   0.0s\n",
      "[CV 5/5; 4/16] START C=0.1, gamma=0.001, kernel=rbf.............................\n",
      "[CV 5/5; 4/16] END ...........C=0.1, gamma=0.001, kernel=rbf; total time=   0.0s\n",
      "[CV 1/5; 5/16] START C=1, gamma=1, kernel=rbf...................................\n",
      "[CV 1/5; 5/16] END .................C=1, gamma=1, kernel=rbf; total time=   0.0s\n",
      "[CV 2/5; 5/16] START C=1, gamma=1, kernel=rbf...................................\n",
      "[CV 2/5; 5/16] END .................C=1, gamma=1, kernel=rbf; total time=   0.0s\n",
      "[CV 3/5; 5/16] START C=1, gamma=1, kernel=rbf...................................\n",
      "[CV 3/5; 5/16] END .................C=1, gamma=1, kernel=rbf; total time=   0.0s\n",
      "[CV 4/5; 5/16] START C=1, gamma=1, kernel=rbf...................................\n",
      "[CV 4/5; 5/16] END .................C=1, gamma=1, kernel=rbf; total time=   0.0s\n",
      "[CV 5/5; 5/16] START C=1, gamma=1, kernel=rbf...................................\n",
      "[CV 5/5; 5/16] END .................C=1, gamma=1, kernel=rbf; total time=   0.0s\n",
      "[CV 1/5; 6/16] START C=1, gamma=0.1, kernel=rbf.................................\n",
      "[CV 1/5; 6/16] END ...............C=1, gamma=0.1, kernel=rbf; total time=   0.0s\n",
      "[CV 2/5; 6/16] START C=1, gamma=0.1, kernel=rbf.................................\n",
      "[CV 2/5; 6/16] END ...............C=1, gamma=0.1, kernel=rbf; total time=   0.0s\n",
      "[CV 3/5; 6/16] START C=1, gamma=0.1, kernel=rbf.................................\n",
      "[CV 3/5; 6/16] END ...............C=1, gamma=0.1, kernel=rbf; total time=   0.0s\n",
      "[CV 4/5; 6/16] START C=1, gamma=0.1, kernel=rbf.................................\n",
      "[CV 4/5; 6/16] END ...............C=1, gamma=0.1, kernel=rbf; total time=   0.0s\n",
      "[CV 5/5; 6/16] START C=1, gamma=0.1, kernel=rbf.................................\n",
      "[CV 5/5; 6/16] END ...............C=1, gamma=0.1, kernel=rbf; total time=   0.0s\n",
      "[CV 1/5; 7/16] START C=1, gamma=0.01, kernel=rbf................................\n",
      "[CV 1/5; 7/16] END ..............C=1, gamma=0.01, kernel=rbf; total time=   0.0s\n",
      "[CV 2/5; 7/16] START C=1, gamma=0.01, kernel=rbf................................\n",
      "[CV 2/5; 7/16] END ..............C=1, gamma=0.01, kernel=rbf; total time=   0.0s\n",
      "[CV 3/5; 7/16] START C=1, gamma=0.01, kernel=rbf................................\n",
      "[CV 3/5; 7/16] END ..............C=1, gamma=0.01, kernel=rbf; total time=   0.0s\n",
      "[CV 4/5; 7/16] START C=1, gamma=0.01, kernel=rbf................................\n",
      "[CV 4/5; 7/16] END ..............C=1, gamma=0.01, kernel=rbf; total time=   0.0s\n",
      "[CV 5/5; 7/16] START C=1, gamma=0.01, kernel=rbf................................\n",
      "[CV 5/5; 7/16] END ..............C=1, gamma=0.01, kernel=rbf; total time=   0.0s\n",
      "[CV 1/5; 8/16] START C=1, gamma=0.001, kernel=rbf...............................\n",
      "[CV 1/5; 8/16] END .............C=1, gamma=0.001, kernel=rbf; total time=   0.0s\n",
      "[CV 2/5; 8/16] START C=1, gamma=0.001, kernel=rbf...............................\n",
      "[CV 2/5; 8/16] END .............C=1, gamma=0.001, kernel=rbf; total time=   0.0s\n",
      "[CV 3/5; 8/16] START C=1, gamma=0.001, kernel=rbf...............................\n",
      "[CV 3/5; 8/16] END .............C=1, gamma=0.001, kernel=rbf; total time=   0.0s\n",
      "[CV 4/5; 8/16] START C=1, gamma=0.001, kernel=rbf...............................\n",
      "[CV 4/5; 8/16] END .............C=1, gamma=0.001, kernel=rbf; total time=   0.0s\n",
      "[CV 5/5; 8/16] START C=1, gamma=0.001, kernel=rbf...............................\n",
      "[CV 5/5; 8/16] END .............C=1, gamma=0.001, kernel=rbf; total time=   0.0s\n",
      "[CV 1/5; 9/16] START C=10, gamma=1, kernel=rbf..................................\n",
      "[CV 1/5; 9/16] END ................C=10, gamma=1, kernel=rbf; total time=   0.0s\n",
      "[CV 2/5; 9/16] START C=10, gamma=1, kernel=rbf..................................\n",
      "[CV 2/5; 9/16] END ................C=10, gamma=1, kernel=rbf; total time=   0.0s\n",
      "[CV 3/5; 9/16] START C=10, gamma=1, kernel=rbf..................................\n",
      "[CV 3/5; 9/16] END ................C=10, gamma=1, kernel=rbf; total time=   0.0s\n",
      "[CV 4/5; 9/16] START C=10, gamma=1, kernel=rbf..................................\n",
      "[CV 4/5; 9/16] END ................C=10, gamma=1, kernel=rbf; total time=   0.0s\n",
      "[CV 5/5; 9/16] START C=10, gamma=1, kernel=rbf..................................\n",
      "[CV 5/5; 9/16] END ................C=10, gamma=1, kernel=rbf; total time=   0.0s\n",
      "[CV 1/5; 10/16] START C=10, gamma=0.1, kernel=rbf...............................\n",
      "[CV 1/5; 10/16] END .............C=10, gamma=0.1, kernel=rbf; total time=   0.0s\n",
      "[CV 2/5; 10/16] START C=10, gamma=0.1, kernel=rbf...............................\n",
      "[CV 2/5; 10/16] END .............C=10, gamma=0.1, kernel=rbf; total time=   0.0s\n",
      "[CV 3/5; 10/16] START C=10, gamma=0.1, kernel=rbf...............................\n",
      "[CV 3/5; 10/16] END .............C=10, gamma=0.1, kernel=rbf; total time=   0.0s\n",
      "[CV 4/5; 10/16] START C=10, gamma=0.1, kernel=rbf...............................\n",
      "[CV 4/5; 10/16] END .............C=10, gamma=0.1, kernel=rbf; total time=   0.0s\n",
      "[CV 5/5; 10/16] START C=10, gamma=0.1, kernel=rbf...............................\n",
      "[CV 5/5; 10/16] END .............C=10, gamma=0.1, kernel=rbf; total time=   0.0s\n",
      "[CV 1/5; 11/16] START C=10, gamma=0.01, kernel=rbf..............................\n",
      "[CV 1/5; 11/16] END ............C=10, gamma=0.01, kernel=rbf; total time=   0.0s\n",
      "[CV 2/5; 11/16] START C=10, gamma=0.01, kernel=rbf..............................\n",
      "[CV 2/5; 11/16] END ............C=10, gamma=0.01, kernel=rbf; total time=   0.0s\n",
      "[CV 3/5; 11/16] START C=10, gamma=0.01, kernel=rbf..............................\n",
      "[CV 3/5; 11/16] END ............C=10, gamma=0.01, kernel=rbf; total time=   0.0s\n",
      "[CV 4/5; 11/16] START C=10, gamma=0.01, kernel=rbf..............................\n",
      "[CV 4/5; 11/16] END ............C=10, gamma=0.01, kernel=rbf; total time=   0.0s\n",
      "[CV 5/5; 11/16] START C=10, gamma=0.01, kernel=rbf..............................\n",
      "[CV 5/5; 11/16] END ............C=10, gamma=0.01, kernel=rbf; total time=   0.0s\n",
      "[CV 1/5; 12/16] START C=10, gamma=0.001, kernel=rbf.............................\n",
      "[CV 1/5; 12/16] END ...........C=10, gamma=0.001, kernel=rbf; total time=   0.0s\n",
      "[CV 2/5; 12/16] START C=10, gamma=0.001, kernel=rbf.............................\n",
      "[CV 2/5; 12/16] END ...........C=10, gamma=0.001, kernel=rbf; total time=   0.0s\n",
      "[CV 3/5; 12/16] START C=10, gamma=0.001, kernel=rbf.............................\n",
      "[CV 3/5; 12/16] END ...........C=10, gamma=0.001, kernel=rbf; total time=   0.0s\n",
      "[CV 4/5; 12/16] START C=10, gamma=0.001, kernel=rbf.............................\n",
      "[CV 4/5; 12/16] END ...........C=10, gamma=0.001, kernel=rbf; total time=   0.0s\n",
      "[CV 5/5; 12/16] START C=10, gamma=0.001, kernel=rbf.............................\n",
      "[CV 5/5; 12/16] END ...........C=10, gamma=0.001, kernel=rbf; total time=   0.0s\n",
      "[CV 1/5; 13/16] START C=100, gamma=1, kernel=rbf................................\n",
      "[CV 1/5; 13/16] END ..............C=100, gamma=1, kernel=rbf; total time=   0.0s\n",
      "[CV 2/5; 13/16] START C=100, gamma=1, kernel=rbf................................\n",
      "[CV 2/5; 13/16] END ..............C=100, gamma=1, kernel=rbf; total time=   0.0s\n",
      "[CV 3/5; 13/16] START C=100, gamma=1, kernel=rbf................................\n",
      "[CV 3/5; 13/16] END ..............C=100, gamma=1, kernel=rbf; total time=   0.0s\n",
      "[CV 4/5; 13/16] START C=100, gamma=1, kernel=rbf................................\n",
      "[CV 4/5; 13/16] END ..............C=100, gamma=1, kernel=rbf; total time=   0.0s\n",
      "[CV 5/5; 13/16] START C=100, gamma=1, kernel=rbf................................\n",
      "[CV 5/5; 13/16] END ..............C=100, gamma=1, kernel=rbf; total time=   0.0s\n",
      "[CV 1/5; 14/16] START C=100, gamma=0.1, kernel=rbf..............................\n",
      "[CV 1/5; 14/16] END ............C=100, gamma=0.1, kernel=rbf; total time=   0.0s\n",
      "[CV 2/5; 14/16] START C=100, gamma=0.1, kernel=rbf..............................\n",
      "[CV 2/5; 14/16] END ............C=100, gamma=0.1, kernel=rbf; total time=   0.0s\n",
      "[CV 3/5; 14/16] START C=100, gamma=0.1, kernel=rbf..............................\n",
      "[CV 3/5; 14/16] END ............C=100, gamma=0.1, kernel=rbf; total time=   0.0s\n",
      "[CV 4/5; 14/16] START C=100, gamma=0.1, kernel=rbf..............................\n",
      "[CV 4/5; 14/16] END ............C=100, gamma=0.1, kernel=rbf; total time=   0.0s\n",
      "[CV 5/5; 14/16] START C=100, gamma=0.1, kernel=rbf..............................\n",
      "[CV 5/5; 14/16] END ............C=100, gamma=0.1, kernel=rbf; total time=   0.0s\n",
      "[CV 1/5; 15/16] START C=100, gamma=0.01, kernel=rbf.............................\n",
      "[CV 1/5; 15/16] END ...........C=100, gamma=0.01, kernel=rbf; total time=   0.0s\n",
      "[CV 2/5; 15/16] START C=100, gamma=0.01, kernel=rbf.............................\n",
      "[CV 2/5; 15/16] END ...........C=100, gamma=0.01, kernel=rbf; total time=   0.0s\n",
      "[CV 3/5; 15/16] START C=100, gamma=0.01, kernel=rbf.............................\n",
      "[CV 3/5; 15/16] END ...........C=100, gamma=0.01, kernel=rbf; total time=   0.0s\n",
      "[CV 4/5; 15/16] START C=100, gamma=0.01, kernel=rbf.............................\n",
      "[CV 4/5; 15/16] END ...........C=100, gamma=0.01, kernel=rbf; total time=   0.0s\n",
      "[CV 5/5; 15/16] START C=100, gamma=0.01, kernel=rbf.............................\n",
      "[CV 5/5; 15/16] END ...........C=100, gamma=0.01, kernel=rbf; total time=   0.0s\n",
      "[CV 1/5; 16/16] START C=100, gamma=0.001, kernel=rbf............................\n",
      "[CV 1/5; 16/16] END ..........C=100, gamma=0.001, kernel=rbf; total time=   0.0s\n",
      "[CV 2/5; 16/16] START C=100, gamma=0.001, kernel=rbf............................\n",
      "[CV 2/5; 16/16] END ..........C=100, gamma=0.001, kernel=rbf; total time=   0.0s\n",
      "[CV 3/5; 16/16] START C=100, gamma=0.001, kernel=rbf............................\n",
      "[CV 3/5; 16/16] END ..........C=100, gamma=0.001, kernel=rbf; total time=   0.0s\n",
      "[CV 4/5; 16/16] START C=100, gamma=0.001, kernel=rbf............................\n",
      "[CV 4/5; 16/16] END ..........C=100, gamma=0.001, kernel=rbf; total time=   0.0s\n",
      "[CV 5/5; 16/16] START C=100, gamma=0.001, kernel=rbf............................\n",
      "[CV 5/5; 16/16] END ..........C=100, gamma=0.001, kernel=rbf; total time=   0.0s\n"
     ]
    },
    {
     "output_type": "execute_result",
     "data": {
      "text/plain": [
       "{'C': 1, 'gamma': 1, 'kernel': 'rbf'}"
      ]
     },
     "metadata": {},
     "execution_count": 185
    }
   ],
   "metadata": {}
  },
  {
   "cell_type": "code",
   "execution_count": 186,
   "source": [
    "grid.best_estimator_"
   ],
   "outputs": [
    {
     "output_type": "execute_result",
     "data": {
      "text/plain": [
       "SVC(C=1, gamma=1)"
      ]
     },
     "metadata": {},
     "execution_count": 186
    }
   ],
   "metadata": {}
  },
  {
   "cell_type": "code",
   "execution_count": 187,
   "source": [
    "grid_predictions = grid.predict(norm_x_test)"
   ],
   "outputs": [],
   "metadata": {}
  },
  {
   "cell_type": "code",
   "execution_count": 188,
   "source": [
    "cm = confusion_matrix(y_test, grid_predictions)\r\n",
    "\r\n",
    "sns.heatmap(cm,annot=True,fmt=\"d\")"
   ],
   "outputs": [
    {
     "output_type": "execute_result",
     "data": {
      "text/plain": [
       "<AxesSubplot:>"
      ]
     },
     "metadata": {},
     "execution_count": 188
    },
    {
     "output_type": "display_data",
     "data": {
      "text/plain": [
       "<Figure size 432x288 with 2 Axes>"
      ],
      "image/png": "[encoded data removed]"
     },
     "metadata": {
      "needs_background": "light"
     }
    }
   ],
   "metadata": {}
  },
  {
   "cell_type": "code",
   "execution_count": 191,
   "source": [
    "print(\"The accuracy score achieved using Best Parameters Linear SVM is: \"+str(accuracy_score(grid_predictions,y_test)*100)+\" %\")"
   ],
   "outputs": [
    {
     "output_type": "stream",
     "name": "stdout",
     "text": [
      "The accuracy score achieved using Best Parameters Linear SVM is: 95.6140350877193 %\n"
     ]
    }
   ],
   "metadata": {}
  },
  {
   "cell_type": "code",
   "execution_count": 192,
   "source": [
    "print(classification_report(y_test,grid_predictions))"
   ],
   "outputs": [
    {
     "output_type": "stream",
     "name": "stdout",
     "text": [
      "              precision    recall  f1-score   support\n",
      "\n",
      "         0.0       0.96      0.94      0.95        51\n",
      "         1.0       0.95      0.97      0.96        63\n",
      "\n",
      "    accuracy                           0.96       114\n",
      "   macro avg       0.96      0.95      0.96       114\n",
      "weighted avg       0.96      0.96      0.96       114\n",
      "\n"
     ]
    }
   ],
   "metadata": {}
  }
 ],
 "metadata": {
  "colab": {
   "collapsed_sections": [],
   "name": "SVM_Breast_Cancer.ipynb",
   "provenance": []
  },
  "kernelspec": {
   "display_name": "Python 3",
   "language": "python",
   "name": "python3"
  },
  "language_info": {
   "codemirror_mode": {
    "name": "ipython",
    "version": 3
   },
   "file_extension": ".py",
   "mimetype": "text/x-python",
   "name": "python",
   "nbconvert_exporter": "python",
   "pygments_lexer": "ipython3",
   "version": "3.8.8"
  }
 },
 "nbformat": 4,
 "nbformat_minor": 4
}